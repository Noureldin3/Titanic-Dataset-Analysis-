{
  "cells": [
    {
      "cell_type": "markdown",
      "id": "ae2d8976",
      "metadata": {
        "id": "ae2d8976"
      },
      "source": [
        "# Titanic Data Cleaning Notebook\n",
        "This notebook performs cleaning and feature engineering on the Titanic dataset."
      ]
    },
    {
      "cell_type": "code",
      "execution_count": 11,
      "id": "9112286c",
      "metadata": {
        "id": "9112286c"
      },
      "outputs": [],
      "source": [
        "import pandas as pd\n",
        "import numpy as np"
      ]
    },
    {
      "cell_type": "code",
      "execution_count": 12,
      "id": "dd7c598f",
      "metadata": {
        "id": "dd7c598f"
      },
      "outputs": [],
      "source": [
        "df = pd.read_csv('/content/cleaned_titanic.csv')"
      ]
    },
    {
      "cell_type": "code",
      "execution_count": 13,
      "id": "a35a626b",
      "metadata": {
        "colab": {
          "base_uri": "https://localhost:8080/"
        },
        "id": "a35a626b",
        "outputId": "062ff632-d82c-411b-a524-c4346c2cac95"
      },
      "outputs": [
        {
          "output_type": "stream",
          "name": "stdout",
          "text": [
            "Shape: (891, 10)\n",
            "\n",
            "Info:\n",
            "<class 'pandas.core.frame.DataFrame'>\n",
            "RangeIndex: 891 entries, 0 to 890\n",
            "Data columns (total 10 columns):\n",
            " #   Column    Non-Null Count  Dtype  \n",
            "---  ------    --------------  -----  \n",
            " 0   Survived  891 non-null    int64  \n",
            " 1   Pclass    891 non-null    int64  \n",
            " 2   Sex       891 non-null    object \n",
            " 3   Age       891 non-null    float64\n",
            " 4   SibSp     891 non-null    int64  \n",
            " 5   Parch     891 non-null    int64  \n",
            " 6   Fare      891 non-null    float64\n",
            " 7   Embarked  891 non-null    object \n",
            " 8   Title     891 non-null    object \n",
            " 9   AgeGroup  891 non-null    object \n",
            "dtypes: float64(2), int64(4), object(4)\n",
            "memory usage: 69.7+ KB\n",
            "None\n",
            "\n",
            "Missing values per column:\n",
            "Survived    0\n",
            "Pclass      0\n",
            "Sex         0\n",
            "Age         0\n",
            "SibSp       0\n",
            "Parch       0\n",
            "Fare        0\n",
            "Embarked    0\n",
            "Title       0\n",
            "AgeGroup    0\n",
            "dtype: int64\n",
            "\n",
            "Sample rows:\n",
            "   Survived  Pclass     Sex   Age  SibSp  Parch     Fare Embarked Title  \\\n",
            "0         0       3    male  22.0      1      0   7.2500        S    Mr   \n",
            "1         1       1  female  38.0      1      0  71.2833        C   Mrs   \n",
            "2         1       3  female  26.0      0      0   7.9250        S  Miss   \n",
            "3         1       1  female  35.0      1      0  53.1000        S   Mrs   \n",
            "4         0       3    male  35.0      0      0   8.0500        S    Mr   \n",
            "\n",
            "     AgeGroup  \n",
            "0  YoungAdult  \n",
            "1       Adult  \n",
            "2  YoungAdult  \n",
            "3  YoungAdult  \n",
            "4  YoungAdult  \n"
          ]
        }
      ],
      "source": [
        "print('Shape:', df.shape)\n",
        "print('\\nInfo:')\n",
        "print(df.info())\n",
        "print('\\nMissing values per column:')\n",
        "print(df.isnull().sum())\n",
        "print('\\nSample rows:')\n",
        "print(df.head())"
      ]
    },
    {
      "cell_type": "code",
      "execution_count": 14,
      "id": "c549801c",
      "metadata": {
        "colab": {
          "base_uri": "https://localhost:8080/"
        },
        "id": "c549801c",
        "outputId": "9c85eab5-a5cf-440a-bd9f-b9e83e16b9cf"
      },
      "outputs": [
        {
          "output_type": "stream",
          "name": "stdout",
          "text": [
            "\n",
            "Value counts - Embarked:\n",
            " Embarked\n",
            "S    646\n",
            "C    168\n",
            "Q     77\n",
            "Name: count, dtype: int64\n",
            "\n",
            "Value counts - Sex:\n",
            " Sex\n",
            "male      577\n",
            "female    314\n",
            "Name: count, dtype: int64\n",
            "\n",
            "Value counts - Pclass:\n",
            " Pclass\n",
            "3    491\n",
            "1    216\n",
            "2    184\n",
            "Name: count, dtype: int64\n"
          ]
        }
      ],
      "source": [
        "print('\\nValue counts - Embarked:\\n', df['Embarked'].value_counts(dropna=False))\n",
        "print('\\nValue counts - Sex:\\n', df['Sex'].value_counts(dropna=False))\n",
        "print('\\nValue counts - Pclass:\\n', df['Pclass'].value_counts(dropna=False))"
      ]
    },
    {
      "cell_type": "code",
      "execution_count": 15,
      "id": "bbb519a4",
      "metadata": {
        "colab": {
          "base_uri": "https://localhost:8080/"
        },
        "id": "bbb519a4",
        "outputId": "236ea333-a2f7-493e-e23e-3359a19ec00c"
      },
      "outputs": [
        {
          "output_type": "stream",
          "name": "stdout",
          "text": [
            "⚠️ Column 'Name' not found!\n"
          ]
        }
      ],
      "source": [
        "df['Age'] = df['Age'].fillna(df['Age'].median())\n",
        "df['Embarked'] = df['Embarked'].fillna(df['Embarked'].mode()[0])\n",
        "\n",
        "if 'Name' in df.columns:\n",
        "    df['Title'] = df['Name'].str.extract('([A-Za-z]+)\\.', expand=False)\n",
        "    df['Title'] = df['Title'].replace(['Lady', 'Countess', 'Capt', 'Col', 'Don', 'Dr',\n",
        "                                       'Major', 'Rev', 'Sir', 'Jonkheer', 'Dona'], 'Rare')\n",
        "    df['Title'] = df['Title'].replace({'Mlle': 'Miss', 'Ms': 'Miss', 'Mme': 'Mrs'})\n",
        "else:\n",
        "    print(\"⚠️ Column 'Name' not found!\")\n",
        "\n"
      ]
    },
    {
      "cell_type": "code",
      "execution_count": 16,
      "id": "fbc613d0",
      "metadata": {
        "colab": {
          "base_uri": "https://localhost:8080/"
        },
        "id": "fbc613d0",
        "outputId": "30fb4542-a9f6-4d2d-d07f-1bd9033866c8"
      },
      "outputs": [
        {
          "output_type": "stream",
          "name": "stdout",
          "text": [
            "\n",
            "✅ Cleaned dataset saved as cleaned_titanic.csv\n"
          ]
        }
      ],
      "source": [
        "df.to_csv('cleaned_titanic.csv', index=False)\n",
        "print('\\n✅ Cleaned dataset saved as cleaned_titanic.csv')"
      ]
    }
  ],
  "metadata": {
    "colab": {
      "provenance": []
    },
    "language_info": {
      "name": "python"
    },
    "kernelspec": {
      "name": "python3",
      "display_name": "Python 3"
    }
  },
  "nbformat": 4,
  "nbformat_minor": 5
}